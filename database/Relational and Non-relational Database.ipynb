{
 "cells": [
  {
   "cell_type": "markdown",
   "metadata": {},
   "source": [
    "### **Relational Database**"
   ]
  },
  {
   "cell_type": "code",
   "execution_count": 1,
   "metadata": {},
   "outputs": [],
   "source": [
    "import sqlite3\n",
    "\n",
    "db = sqlite3.connect(':memory:')  # Using an in-memory database\n",
    "cur = db.cursor()"
   ]
  },
  {
   "cell_type": "code",
   "execution_count": 2,
   "metadata": {},
   "outputs": [
    {
     "data": {
      "text/plain": [
       "<sqlite3.Cursor at 0x10ef092d0>"
      ]
     },
     "execution_count": 2,
     "metadata": {},
     "output_type": "execute_result"
    }
   ],
   "source": [
    "cur.execute('''CREATE TABLE IF NOT EXISTS Customer (\n",
    "                id integer PRIMARY KEY,\n",
    "                firstname varchar(255),\n",
    "                lastname varchar(255) )''')\n",
    "\n",
    "cur.execute('''CREATE TABLE IF NOT EXISTS Item (\n",
    "                id integer PRIMARY KEY,\n",
    "                title varchar(255),\n",
    "                price decimal )''')\n",
    "\n",
    "cur.execute('''CREATE TABLE IF NOT EXISTS BoughtItem (\n",
    "                ordernumber integer PRIMARY KEY,\n",
    "                customerid integer,\n",
    "                itemid integer,\n",
    "                price decimal,\n",
    "                CONSTRAINT customerid\n",
    "                    FOREIGN KEY (customerid) REFERENCES Customer(id),\n",
    "                CONSTRAINT itemid\n",
    "                    FOREIGN KEY (itemid) REFERENCES Item(id) )''')"
   ]
  },
  {
   "cell_type": "code",
   "execution_count": 4,
   "metadata": {},
   "outputs": [
    {
     "data": {
      "text/plain": [
       "<sqlite3.Cursor at 0x10ef092d0>"
      ]
     },
     "execution_count": 4,
     "metadata": {},
     "output_type": "execute_result"
    }
   ],
   "source": [
    "cur.execute('''INSERT INTO Customer(firstname, lastname)\n",
    "               VALUES ('Bob', 'Adams'),\n",
    "                      ('Amy', 'Smith'),\n",
    "                      ('Rob', 'Bennet');''')\n",
    "cur.execute('''INSERT INTO Item(title, price)\n",
    "               VALUES ('USB', 10.2),\n",
    "                      ('Mouse', 12.23),\n",
    "                      ('Monitor', 199.99);''')\n",
    "cur.execute('''INSERT INTO BoughtItem(customerid, itemid, price)\n",
    "               VALUES (1, 1, 10.2),\n",
    "                      (1, 2, 12.23),\n",
    "                      (1, 3, 199.99),\n",
    "                      (2, 3, 180.00),\n",
    "                      (3, 2, 11.23);''') # Discounted price "
   ]
  },
  {
   "cell_type": "code",
   "execution_count": 6,
   "metadata": {},
   "outputs": [
    {
     "name": "stdout",
     "output_type": "stream",
     "text": [
      "[('USB', 10.2), ('Mouse', 11.73), ('Monitor', 189.995)]\n"
     ]
    }
   ],
   "source": [
    "cur.execute('''SELECT item.title, AVG(boughtitem.price) FROM BoughtItem as boughtitem\n",
    "...             INNER JOIN Item as item on (item.id = boughtitem.itemid)\n",
    "...             GROUP BY boughtitem.itemid''')\n",
    "print(cur.fetchall())"
   ]
  },
  {
   "cell_type": "code",
   "execution_count": 7,
   "metadata": {},
   "outputs": [
    {
     "name": "stdout",
     "output_type": "stream",
     "text": [
      "[('Amy', 180), ('Bob', 222.42000000000002), ('Rob', 11.23)]\n"
     ]
    }
   ],
   "source": [
    "cur.execute('''SELECT customer.firstname, SUM(boughtitem.price) FROM BoughtItem as boughtitem\n",
    "...             INNER JOIN Customer as customer on (customer.id = boughtitem.customerid)\n",
    "...             GROUP BY customer.firstname''')\n",
    "...\n",
    "print(cur.fetchall())"
   ]
  },
  {
   "cell_type": "markdown",
   "metadata": {},
   "source": [
    "**Debugging SQL Queries**"
   ]
  },
  {
   "cell_type": "code",
   "execution_count": 9,
   "metadata": {},
   "outputs": [
    {
     "name": "stdout",
     "output_type": "stream",
     "text": [
      "[(4, 0, 0, 'SCAN TABLE BoughtItem AS boughtitem'), (6, 0, 0, 'SEARCH TABLE Customer AS customer USING INTEGER PRIMARY KEY (rowid=?)'), (9, 0, 0, 'SEARCH TABLE Item AS item USING INTEGER PRIMARY KEY (rowid=?)')]\n"
     ]
    }
   ],
   "source": [
    "cur.execute('''EXPLAIN QUERY PLAN SELECT customer.firstname, item.title, \n",
    "...                item.price, boughtitem.price FROM BoughtItem as boughtitem\n",
    "...                INNER JOIN Customer as customer on (customer.id = boughtitem.customerid)\n",
    "...                INNER JOIN Item as item on (item.id = boughtitem.itemid)''')\n",
    "print(cur.fetchall())"
   ]
  },
  {
   "cell_type": "markdown",
   "metadata": {},
   "source": [
    "### **Non-relational Database**"
   ]
  },
  {
   "cell_type": "code",
   "execution_count": 11,
   "metadata": {},
   "outputs": [
    {
     "name": "stdout",
     "output_type": "stream",
     "text": [
      "Collecting pymongo\n",
      "  Downloading pymongo-3.10.1-cp37-cp37m-macosx_10_9_x86_64.whl (350 kB)\n",
      "\u001b[K     |████████████████████████████████| 350 kB 2.0 MB/s eta 0:00:01\n",
      "\u001b[?25hInstalling collected packages: pymongo\n",
      "Successfully installed pymongo-3.10.1\n"
     ]
    }
   ],
   "source": [
    "!pip3 install pymongo"
   ]
  },
  {
   "cell_type": "code",
   "execution_count": 12,
   "metadata": {},
   "outputs": [],
   "source": [
    "import pymongo\n",
    "\n",
    "client = pymongo.MongoClient(\"mongodb://localhost:27017/\")\n",
    "# Note: This database is not created until it is populated by some data\n",
    "db = client[\"example_database\"]"
   ]
  },
  {
   "cell_type": "code",
   "execution_count": 13,
   "metadata": {},
   "outputs": [],
   "source": [
    "customers = db[\"customers\"]\n",
    "items = db[\"items\"]"
   ]
  },
  {
   "cell_type": "code",
   "execution_count": 14,
   "metadata": {},
   "outputs": [
    {
     "data": {
      "text/plain": [
       "<pymongo.results.InsertManyResult at 0x10d47e410>"
      ]
     },
     "execution_count": 14,
     "metadata": {},
     "output_type": "execute_result"
    }
   ],
   "source": [
    "customers_data = [{ \"firstname\": \"Bob\", \"lastname\": \"Adams\" },\n",
    "                  { \"firstname\": \"Amy\", \"lastname\": \"Smith\" },\n",
    "                  { \"firstname\": \"Rob\", \"lastname\": \"Bennet\" },]\n",
    "items_data = [{ \"title\": \"USB\", \"price\": 10.2 },\n",
    "              { \"title\": \"Mouse\", \"price\": 12.23 },\n",
    "              { \"title\": \"Monitor\", \"price\": 199.99 },]\n",
    "\n",
    "customers.insert_many(customers_data)\n",
    "items.insert_many(items_data)"
   ]
  },
  {
   "cell_type": "code",
   "execution_count": 15,
   "metadata": {},
   "outputs": [],
   "source": [
    "bob = customers.update_many(\n",
    "        {\"firstname\": \"Bob\"},\n",
    "        {\n",
    "            \"$set\": {               # $set: update a record without writing all the existing fields\n",
    "                \"boughtitems\": [\n",
    "                    {\n",
    "                        \"title\": \"USB\",\n",
    "                        \"price\": 10.2,\n",
    "                        \"currency\": \"EUR\",\n",
    "                        \"notes\": \"Customer wants it delivered via FedEx\",\n",
    "                        \"original_item_id\": 1\n",
    "                    }\n",
    "                ]\n",
    "            },\n",
    "        }\n",
    "    )"
   ]
  },
  {
   "cell_type": "code",
   "execution_count": 16,
   "metadata": {},
   "outputs": [
    {
     "name": "stdout",
     "output_type": "stream",
     "text": [
      "<class 'pymongo.results.UpdateResult'>\n"
     ]
    }
   ],
   "source": [
    "amy = customers.update_many(\n",
    "        {\"firstname\": \"Amy\"},\n",
    "        {\n",
    "            \"$set\": {\n",
    "                \"boughtitems\":[\n",
    "                    {\n",
    "                        \"title\": \"Monitor\",\n",
    "                        \"price\": 199.99,\n",
    "                        \"original_item_id\": 3,\n",
    "                        \"discounted\": False\n",
    "                    }\n",
    "                ]\n",
    "            } ,\n",
    "        }\n",
    "    )\n",
    "print(type(amy))"
   ]
  },
  {
   "cell_type": "code",
   "execution_count": 17,
   "metadata": {},
   "outputs": [
    {
     "data": {
      "text/plain": [
       "'name_-1'"
      ]
     },
     "execution_count": 17,
     "metadata": {},
     "output_type": "execute_result"
    }
   ],
   "source": [
    "customers.create_index([(\"name\", pymongo.DESCENDING)])"
   ]
  },
  {
   "cell_type": "code",
   "execution_count": 20,
   "metadata": {},
   "outputs": [
    {
     "name": "stdout",
     "output_type": "stream",
     "text": [
      "None\n",
      "[{'title': 'Monitor', 'price': 199.99, 'original_item_id': 3, 'discounted': False}]\n",
      "[{'title': 'USB', 'price': 10.2, 'currency': 'EUR', 'notes': 'Customer wants it delivered via FedEx', 'original_item_id': 1}]\n"
     ]
    }
   ],
   "source": [
    "items = customers.find().sort(\"name\", pymongo.ASCENDING)\n",
    "for item in items:\n",
    "    print(item.get('boughtitems'))"
   ]
  },
  {
   "cell_type": "code",
   "execution_count": 21,
   "metadata": {},
   "outputs": [
    {
     "data": {
      "text/plain": [
       "['Amy', 'Bob', 'Rob']"
      ]
     },
     "execution_count": 21,
     "metadata": {},
     "output_type": "execute_result"
    }
   ],
   "source": [
    "customers.distinct(\"firstname\")"
   ]
  },
  {
   "cell_type": "code",
   "execution_count": 22,
   "metadata": {},
   "outputs": [
    {
     "name": "stdout",
     "output_type": "stream",
     "text": [
      "{'firstname': 'Bob', 'boughtitems': [{'title': 'USB', 'price': 10.2, 'currency': 'EUR', 'notes': 'Customer wants it delivered via FedEx', 'original_item_id': 1}]}\n",
      "{'firstname': 'Amy', 'boughtitems': [{'title': 'Monitor', 'price': 199.99, 'original_item_id': 3, 'discounted': False}]}\n"
     ]
    }
   ],
   "source": [
    "for i in customers.find({\"$or\": [{'firstname':'Bob'}, {'firstname':'Amy'}]}, \n",
    "...                                  {'firstname':1, 'boughtitems':1, '_id':0}):\n",
    "...     print(i)"
   ]
  },
  {
   "cell_type": "markdown",
   "metadata": {},
   "source": [
    "### **Cache Database**"
   ]
  },
  {
   "cell_type": "code",
   "execution_count": 23,
   "metadata": {},
   "outputs": [
    {
     "name": "stdout",
     "output_type": "stream",
     "text": [
      "Collecting redis\n",
      "  Downloading redis-3.5.3-py2.py3-none-any.whl (72 kB)\n",
      "\u001b[K     |████████████████████████████████| 72 kB 907 kB/s eta 0:00:011\n",
      "\u001b[?25hInstalling collected packages: redis\n",
      "Successfully installed redis-3.5.3\n"
     ]
    }
   ],
   "source": [
    "!pip3 install redis"
   ]
  },
  {
   "cell_type": "code",
   "execution_count": 24,
   "metadata": {},
   "outputs": [],
   "source": [
    "import redis\n",
    "from datetime import timedelta\n",
    "\n",
    "# In a real web application, configuration is obtained from settings or utils\n",
    "r = redis.Redis()"
   ]
  },
  {
   "cell_type": "code",
   "execution_count": 25,
   "metadata": {},
   "outputs": [],
   "source": [
    "# Assume this is a getter handling a request\n",
    "def get_name(request, *args, **kwargs):\n",
    "    id = request.get('id')\n",
    "    if id in r:\n",
    "        return r.get(id)  # Assume that we have an {id: name} store\n",
    "    else:\n",
    "        # Get data from the main DB here, assume we already did it\n",
    "        name = 'Bob'\n",
    "        # Set the value in the cache database, with an expiration time\n",
    "        r.setex(id, timedelta(minutes=60), value=name)\n",
    "        return name"
   ]
  },
  {
   "cell_type": "code",
   "execution_count": null,
   "metadata": {},
   "outputs": [],
   "source": []
  }
 ],
 "metadata": {
  "kernelspec": {
   "display_name": "Python 3",
   "language": "python",
   "name": "python3"
  },
  "language_info": {
   "codemirror_mode": {
    "name": "ipython",
    "version": 3
   },
   "file_extension": ".py",
   "mimetype": "text/x-python",
   "name": "python",
   "nbconvert_exporter": "python",
   "pygments_lexer": "ipython3",
   "version": "3.7.7"
  }
 },
 "nbformat": 4,
 "nbformat_minor": 4
}
